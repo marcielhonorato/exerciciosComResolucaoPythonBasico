{
 "cells": [
  {
   "cell_type": "markdown",
   "metadata": {},
   "source": [
    "# Exercícios\n",
    "\n",
    "## 1. Calculando % de uma lista\n",
    "\n",
    "Faremos algo parecido com \"filtrar\" uma lista. Mais pra frente no curso aprenderemos outras formas de fazer isso, mas com o nosso conhecimentoa atual já conseguimos resolver o desafio.\n",
    "\n",
    "Digamos que a gente tenha uma lista de vendedores e ao invés de saber todos os vendedores que bateram a meta, eu quero conseguir calcular o % de vendedores que bateram a meta. Ou seja, se temos 10 vendedores e 3 bateram a meta, temos 30% dos vendedores que bateram a meta."
   ]
  },
  {
   "cell_type": "code",
   "execution_count": 15,
   "metadata": {},
   "outputs": [],
   "source": [
    "meta = 10000\n",
    "vendas = [\n",
    "    ['João', 15000],\n",
    "    ['Julia', 27000],\n",
    "    ['Marcus', 9900],\n",
    "    ['Maria', 3750],\n",
    "    ['Ana', 10300],\n",
    "    ['Alon', 7870],\n",
    "]"
   ]
  },
  {
   "cell_type": "markdown",
   "metadata": {},
   "source": [
    "- Vamos resolver de 2 formas:\n",
    "    1. Criando uma lista auxiliar apenas com os vendedores que bateram a meta\n",
    "    2. Fazendo o cálculo diretamente na lista que já temos"
   ]
  },
  {
   "cell_type": "code",
   "execution_count": 2,
   "metadata": {},
   "outputs": [
    {
     "name": "stdout",
     "output_type": "stream",
     "text": [
      "[['João', 15000], ['Julia', 27000], ['Ana', 10300]]\n",
      "50.0% do vendedores bateram a meta\n"
     ]
    }
   ],
   "source": [
    "#seu código aqui - Forma 1\n",
    "\n",
    "qtde_bateu_meta = []\n",
    "\n",
    "for vendedor in vendas:\n",
    "    if vendedor[1] >= meta:\n",
    "        qtde_bateu_meta.append(vendedor)\n",
    "\n",
    "print(qtde_bateu_meta) \n",
    "print(\"{:.1%} do vendedores bateram a meta\".format(len(qtde_bateu_meta) / len(vendas)))"
   ]
  },
  {
   "cell_type": "code",
   "execution_count": 4,
   "metadata": {},
   "outputs": [
    {
     "name": "stdout",
     "output_type": "stream",
     "text": [
      "50.0% do vendedores bateram a meta\n"
     ]
    }
   ],
   "source": [
    "#seu código aqui - Forma 2\n",
    "\n",
    "qtde_vendedor_acima_meta = 0\n",
    "\n",
    "for vendedor in vendas:\n",
    "    if vendedor[1] >= meta:\n",
    "        qtde_vendedor_acima_meta += 1\n",
    "\n",
    "print(\"{:.1%} do vendedores bateram a meta\".format(qtde_vendedor_acima_meta / len(vendas)))"
   ]
  },
  {
   "cell_type": "markdown",
   "metadata": {},
   "source": [
    "## Para treinar uma estrutura parecida, crie um código para responder: quem foi o vendedor que mais vendeu?"
   ]
  },
  {
   "cell_type": "code",
   "execution_count": 17,
   "metadata": {},
   "outputs": [
    {
     "ename": "SyntaxError",
     "evalue": "incomplete input (21309338.py, line 11)",
     "output_type": "error",
     "traceback": [
      "\u001b[0;36m  Cell \u001b[0;32mIn[17], line 11\u001b[0;36m\u001b[0m\n\u001b[0;31m    print(maior_vlr_venda, \"O melhor vendedor(a) foi , com R${:,.2f}\".format(melhor_vendedor, maior_vlr_venda)\u001b[0m\n\u001b[0m                                                                                                              ^\u001b[0m\n\u001b[0;31mSyntaxError\u001b[0m\u001b[0;31m:\u001b[0m incomplete input\n"
     ]
    }
   ],
   "source": [
    "#seu código aqui\n",
    "\n",
    "melhor_vendedor = ''\n",
    "maior_vlr_venda = 0\n",
    "\n",
    "for vendedor in vendas:\n",
    "    if vendedor[1] > maior_vlr_venda:\n",
    "        maior_vlr_venda = vendedor[1]\n",
    "        melhor_vendedor = vendedor[0]\n",
    "        \n",
    "print(maior_vlr_venda, \"O melhor vendedor(a) foi , com R${:,.2f}\".format(melhor_vendedor, maior_vlr_venda)"
   ]
  },
  {
   "cell_type": "code",
   "execution_count": null,
   "metadata": {},
   "outputs": [],
   "source": []
  }
 ],
 "metadata": {
  "kernelspec": {
   "display_name": "Python 3 (ipykernel)",
   "language": "python",
   "name": "python3"
  },
  "language_info": {
   "codemirror_mode": {
    "name": "ipython",
    "version": 3
   },
   "file_extension": ".py",
   "mimetype": "text/x-python",
   "name": "python",
   "nbconvert_exporter": "python",
   "pygments_lexer": "ipython3",
   "version": "3.11.5"
  }
 },
 "nbformat": 4,
 "nbformat_minor": 4
}
