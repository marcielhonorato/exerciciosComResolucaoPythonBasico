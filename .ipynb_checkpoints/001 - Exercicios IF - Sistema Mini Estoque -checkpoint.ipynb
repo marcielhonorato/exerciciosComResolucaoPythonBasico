{
 "cells": [
  {
   "cell_type": "markdown",
   "id": "0a05a274",
   "metadata": {},
   "source": [
    "# Exercícios"
   ]
  },
  {
   "cell_type": "markdown",
   "id": "1ed95696",
   "metadata": {},
   "source": [
    "## 1. Criando um mini sistema de controle de estoque\n",
    "\n",
    "- Crie um sistema para ser usado pelo time de controle de estoque de um centro de distribuição.\n",
    "- Imagine que ao fim de todo dia, o time conta quantas unidades de produto existem no estoque. Se tivermos um estoque abaixo do estoque permitido para aquela categoria do produto, o time deve ser avisado (print) para fazer um novo pedido daquele produto.\n",
    "- Cada categoria de produto tem um estoque mínimo diferente, segundo a regra abaixo:\n",
    "\n",
    "- alimentos -> Estoque mínimo: 50\n",
    "- bebidas -> Estoque mínimo: 75\n",
    "- limpeza -> Estoque mínimo: 30\n",
    "\n",
    "Para isso vamos criar um programa que pede 3 inputs do usuário: nome do produto, categoria e quantidade atual em estoque.\n",
    "\n",
    "Se o produto tiver abaixo do estoque mínimo da categoria dele, o programa deve printar a mensagem \"Solicitar {produto} à equipe de compras, temos apenas {unidades} em estoque\"\n",
    "\n",
    "Exemplo: Se o usuário preenche os inputs com: bebidas, dolly, 90, o programa não deve exibir nenhuma mensagem.<br>\n",
    "Agora, se o usuário preenche os inputs com: bebidas, guaraná, 60, o programa deve exibir a mensagem \"Solicitar guaraná à equipe de compras, temos apenas 60 unidades em estoque.\n",
    "\n",
    "Obs: lembre de usar o int() para transformar o número inserido pelo usuário no input de string para int.<br>\n",
    "Obs2: Caso o usuário não preencha alguma das 3 informações, o programa deve exibir uma mensagem para avisá-lo de preencher corretamente."
   ]
  },
  {
   "cell_type": "code",
   "execution_count": 43,
   "id": "90c41d44",
   "metadata": {},
   "outputs": [
    {
     "name": "stdout",
     "output_type": "stream",
     "text": [
      "Digite o nome do produto: omo\n",
      "Digite a categoria do produto: limpeza\n",
      "Digite a quantidade em estoque: 65\n",
      "\n"
     ]
    }
   ],
   "source": [
    "#seu código aqui\n",
    "\n",
    "alimentos = 50\n",
    "bebidas = 75\n",
    "limpeza = 30\n",
    "\n",
    "nm_produto = input(\"Digite o nome do produto: \")\n",
    "nm_categoria = input(\"Digite a categoria do produto: \")\n",
    "qtde_unidade = int(input(\"Digite a quantidade em estoque: \"))\n",
    "\n",
    "if nm_categoria == 'alimentos' or nm_categoria == 'bebidas' or nm_categoria == 'limpeza': \n",
    "    if nm_categoria == 'alimentos':\n",
    "        if qtde_unidade <= alimentos:\n",
    "            print(\"Solicitar {} à equipe de compras, temos apenas {} unidades em estoque.\".format(nm_produto,qtde_unidade))\n",
    "        else : print(\"\")\n",
    "    elif nm_categoria == 'bebidas':\n",
    "        if qtde_unidade <= bebidas:\n",
    "            print(\"Solicitar {} à equipe de compras, temos apenas {} unidades em estoque.\".format(nm_produto,qtde_unidade))\n",
    "        else : print(\"\")\n",
    "    elif nm_categoria == 'limpeza':\n",
    "        if qtde_unidade <= limpeza:\n",
    "            print(\"Solicitar {} à equipe de compras, temos apenas {} unidades em estoque.\".format(nm_produto,qtde_unidade))\n",
    "        else : print(\"\")\n",
    "else:\n",
    "    print(\"Você digitou algo errado\")\n",
    "\n",
    "\n"
   ]
  },
  {
   "cell_type": "code",
   "execution_count": null,
   "id": "af40e741",
   "metadata": {},
   "outputs": [],
   "source": []
  },
  {
   "cell_type": "code",
   "execution_count": null,
   "id": "d38e7825",
   "metadata": {},
   "outputs": [],
   "source": []
  }
 ],
 "metadata": {
  "kernelspec": {
   "display_name": "Python 3 (ipykernel)",
   "language": "python",
   "name": "python3"
  },
  "language_info": {
   "codemirror_mode": {
    "name": "ipython",
    "version": 3
   },
   "file_extension": ".py",
   "mimetype": "text/x-python",
   "name": "python",
   "nbconvert_exporter": "python",
   "pygments_lexer": "ipython3",
   "version": "3.11.5"
  }
 },
 "nbformat": 4,
 "nbformat_minor": 5
}
