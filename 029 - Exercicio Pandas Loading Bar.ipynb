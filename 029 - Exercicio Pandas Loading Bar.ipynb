{
 "cells": [
  {
   "cell_type": "markdown",
   "metadata": {},
   "source": [
    "# E quando o nosso código demora muito? Será que travou? Quanto tempo vai demorar?\n",
    "\n",
    "### Biblioteca/Módulo tqdm\n",
    "\n",
    "- Vamos importar os arquivos csv da Empresa Contoso e tratar como fizemos ao longo desse módulo"
   ]
  },
  {
   "cell_type": "code",
   "execution_count": null,
   "metadata": {},
   "outputs": [],
   "source": [
    "import pandas as pd\n",
    "#importando os arquivos\n",
    "vendas_df = pd.read_csv(r'base_dados//Contoso - Vendas  - 2017.csv', sep=';')\n",
    "produtos_df = pd.read_csv(r'base_dados//Contoso - Cadastro Produtos.csv', sep=';')\n",
    "lojas_df = pd.read_csv(r'base_dados//Contoso - Lojas.csv', sep=';')\n",
    "clientes_df = pd.read_csv(r'base_dados//Contoso - Clientes.csv', sep=';')\n",
    "\n",
    "#limpando apenas as colunas que queremos\n",
    "clientes_df = clientes_df[['ID Cliente', 'E-mail']]\n",
    "produtos_df = produtos_df[['ID Produto', 'Nome do Produto']]\n",
    "lojas_df = lojas_df[['ID Loja', 'Nome da Loja']]\n",
    "\n",
    "#mesclando e renomeando os dataframes\n",
    "vendas_df = vendas_df.merge(produtos_df, on='ID Produto')\n",
    "vendas_df = vendas_df.merge(lojas_df, on='ID Loja')\n",
    "vendas_df = vendas_df.merge(clientes_df, on='ID Cliente').rename(columns={'E-mail': 'E-mail do Cliente'})\n",
    "#display(vendas_df)"
   ]
  },
  {
   "cell_type": "markdown",
   "metadata": {},
   "source": [
    "### Agora, imagina que a Loja Contoso Roma (ID 222), para tentar burlar o sistema de metas, diminuiu 1 da quantidade devolvida de todas as vendas que ela teve. Descobrindo isso, precisamos ajeitar a base\n",
    "\n",
    "- Farei com um for, principalmente por motivos didáticos, mas teríamos outras formas de fazer isso também."
   ]
  },
  {
   "cell_type": "code",
   "execution_count": null,
   "metadata": {},
   "outputs": [],
   "source": [
    "from tqdm import tqdm\n",
    "\n",
    "pbar = tqdm(total=len(vendas_df['ID Loja']), position=0, leave=True)\n",
    "\n",
    "for i, id_loja in enumerate(vendas_df['ID Loja']):\n",
    "    pbar.update()\n",
    "    if id_loja == 222:\n",
    "        vendas_df.loc[i, 'Quantidade Devolvida'] += 1\n",
    "lojaroma = vendas_df[vendas_df['ID Loja'] == 222]\n",
    "display(lojaroma)"
   ]
  }
 ],
 "metadata": {
  "kernelspec": {
   "display_name": "Python 3 (ipykernel)",
   "language": "python",
   "name": "python3"
  },
  "language_info": {
   "codemirror_mode": {
    "name": "ipython",
    "version": 3
   },
   "file_extension": ".py",
   "mimetype": "text/x-python",
   "name": "python",
   "nbconvert_exporter": "python",
   "pygments_lexer": "ipython3",
   "version": "3.11.5"
  }
 },
 "nbformat": 4,
 "nbformat_minor": 4
}
