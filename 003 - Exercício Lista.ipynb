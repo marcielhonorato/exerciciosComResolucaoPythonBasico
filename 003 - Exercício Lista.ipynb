{
 "cells": [
  {
   "cell_type": "markdown",
   "metadata": {},
   "source": [
    "# Exercícios\n",
    "\n",
    "## 1. Faturamento do Melhor e do Pior Mês do Ano\n",
    "\n",
    "Qual foi o valor de vendas do melhor mês do Ano?\n",
    "E valor do pior mês do ano?"
   ]
  },
  {
   "cell_type": "code",
   "execution_count": 132,
   "metadata": {},
   "outputs": [
    {
     "name": "stdout",
     "output_type": "stream",
     "text": [
      "O maior valor do ano foi de R$49,051.00 \n",
      "O menor valor do ano foi de R$9,650.00 \n"
     ]
    }
   ],
   "source": [
    "meses = ['jan', 'fev', 'mar', 'abr', 'mai', 'jun', 'jul', 'ago', 'set', 'out', 'nov', 'dez']\n",
    "vendas_1sem = [25000, 29000, 22200, 17750, 15870, 19900]\n",
    "vendas_2sem = [19850, 20120, 17540, 15555, 49051, 9650]\n",
    "\n",
    "vlr_vendas_ano = vendas_1sem + vendas_2sem\n",
    "\n",
    "i = vlr_vendas_ano.index(max(vlr_vendas_ano))\n",
    "\n",
    "mes_vendas = meses[i]\n",
    "\n",
    "print(\"O maior valor do ano foi de R${:,.2f} \".format(max(vlr_vendas_ano)))\n",
    "print(\"O menor valor do ano foi de R${:,.2f} \".format(min(vlr_vendas_ano)))"
   ]
  },
  {
   "cell_type": "markdown",
   "metadata": {},
   "source": [
    "## 2. Continuação\n",
    "\n",
    "Agora relacione as duas listas para printar 'O melhor mês do ano foi {} com {} vendas' e o mesmo para o pior mês do ano.\n",
    "\n",
    "Calcule também o faturamento total do Ano e quanto que o melhor mês representou do faturamento total.\n",
    "\n",
    "Obs: Para o faturamento total, pode usar a função sum(lista) que soma todos os itens de uma lista"
   ]
  },
  {
   "cell_type": "code",
   "execution_count": 133,
   "metadata": {},
   "outputs": [
    {
     "name": "stdout",
     "output_type": "stream",
     "text": [
      "O melhor mês do ano foi nov com R$49,051.00\n",
      "O pior mês do ano foi nov com R$9,650.00\n",
      "O faturamento do ano foi de R$261,486.00\n",
      "O melhor mês representa 18.8% do faturamento total\n"
     ]
    }
   ],
   "source": [
    "print(\"O melhor mês do ano foi {} com R${:,.2f}\".format(mes_vendas, max(vlr_vendas_ano)))\n",
    "\n",
    "print(\"O pior mês do ano foi {} com R${:,.2f}\".format(mes_vendas, min(vlr_vendas_ano)))\n",
    "\n",
    "print(\"O faturamento do ano foi de R${:,.2f}\".format(sum(vlr_vendas_ano)))\n",
    "\n",
    "print(\"O melhor mês representa {:.1%} do faturamento total\".format(max(vlr_vendas_ano)/sum(vlr_vendas_ano)))"
   ]
  },
  {
   "cell_type": "markdown",
   "metadata": {},
   "source": [
    "## 3. Crie uma lista com o top 3 valores de vendas do ano (sem fazer \"no olho\")\n",
    "\n",
    "Dica: o método remove retira um item da lista."
   ]
  },
  {
   "cell_type": "code",
   "execution_count": 134,
   "metadata": {},
   "outputs": [
    {
     "name": "stdout",
     "output_type": "stream",
     "text": [
      "[49051, 29000, 25000]\n"
     ]
    }
   ],
   "source": [
    "top3 = []\n",
    "\n",
    "max_vlr_vendas = vlr_vendas_ano[i]\n",
    "top3.append(max_vlr_vendas)\n",
    "vlr_vendas_ano.sort(reverse=True)\n",
    "vlr_vendas_ano.pop(0)\n",
    "\n",
    "i = vlr_vendas_ano.index(max(vlr_vendas_ano))\n",
    "max_vlr_vendas = vlr_vendas_ano[i]\n",
    "top3.append(max_vlr_vendas)\n",
    "vlr_vendas_ano.pop(0)\n",
    "\n",
    "i = vlr_vendas_ano.index(max(vlr_vendas_ano))\n",
    "max_vlr_vendas = vlr_vendas_ano[i]\n",
    "top3.append(max_vlr_vendas)\n",
    "\n",
    "print(top3)"
   ]
  },
  {
   "cell_type": "code",
   "execution_count": null,
   "metadata": {},
   "outputs": [],
   "source": []
  }
 ],
 "metadata": {
  "kernelspec": {
   "display_name": "Python 3 (ipykernel)",
   "language": "python",
   "name": "python3"
  },
  "language_info": {
   "codemirror_mode": {
    "name": "ipython",
    "version": 3
   },
   "file_extension": ".py",
   "mimetype": "text/x-python",
   "name": "python",
   "nbconvert_exporter": "python",
   "pygments_lexer": "ipython3",
   "version": "3.11.5"
  }
 },
 "nbformat": 4,
 "nbformat_minor": 4
}
