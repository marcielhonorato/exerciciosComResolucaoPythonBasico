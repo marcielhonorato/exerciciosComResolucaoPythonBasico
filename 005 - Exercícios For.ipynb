{
 "cells": [
  {
   "cell_type": "markdown",
   "metadata": {},
   "source": [
    "# Exercícios\n",
    "\n",
    "## 1. Criando um Registro de Hóspedes\n",
    "\n",
    "Digamos que você está criando o sistema para registrar a chegada de hóspedes em um hotel. No hotel, os hóspedes podem ter quartos com 1, 2, 3 e 4 pessoas. Seu sistema deve conseguir:\n",
    "\n",
    "1. Identificar quantas pessoas o hóspede que acabou de chegar vai ter no quarto (perguntando por meio de input)\n",
    "2. De acordo com a quantidade de pessoas do hóspede, ele deve fazer um for para perguntar o cpf e o nome de cada pessoa, a fim de registrá-la no quarto (2 inputs para cada pessoa, 1 para o cpf e outro para o nome)\n",
    "3. O seu programa então deve gerar uma lista com todas as pessoas que ficarão no quarto em que cada item dessa lista é o nome da pessoa e o cpf da pessoa, assim:"
   ]
  },
  {
   "cell_type": "raw",
   "metadata": {},
   "source": [
    "quarto = [\n",
    "    ['João', 'cpf:00000000000'],\n",
    "    ['Julia', 'cpf:11111111111'],\n",
    "    ['Marcus', 'cpf:22222222222'],\n",
    "    ['Maria', 'cpf:33333333333'],\n",
    "]"
   ]
  },
  {
   "cell_type": "markdown",
   "metadata": {},
   "source": [
    "- Para simplificar, não vamos nos preocupar com possibilidades de \"tentar colocar mais de 1 hóspede, digitar o cpf errado, etc. Nosso objetivo é treinar a criação de uma rotina de cadastro"
   ]
  },
  {
   "cell_type": "code",
   "execution_count": 21,
   "metadata": {},
   "outputs": [
    {
     "name": "stdin",
     "output_type": "stream",
     "text": [
      "Quarto para quantos hospedes (max 4):  2\n",
      "Digite o nome do 1º hospede dawdwdw\n",
      "Digite o CPF:  323231661651\n",
      "Digite o nome do 2º hospede dawdwdwadwdw\n",
      "Digite o CPF:  32656411\n"
     ]
    },
    {
     "name": "stdout",
     "output_type": "stream",
     "text": [
      "Lista de hospedes:{} [['dawdwdw', 'cpf: 323231661651'], ['dawdwdwadwdw', 'cpf: 32656411']]\n"
     ]
    }
   ],
   "source": [
    "#seu código aqui\n",
    "\n",
    "quarto = []\n",
    "qtde_quarto = int(input(\"Quarto para quantos hospedes (max 4): \"))\n",
    "\n",
    "if qtde_quarto <= 4:\n",
    "    for hospede in range(qtde_quarto):\n",
    "        nome = input(\"Digite o nome do {}º hospede\".format(hospede + 1))\n",
    "        cpf = input(\"Digite o CPF: \")\n",
    "        hospede = [nome, \"cpf: {}\".format(cpf)]\n",
    "        quarto.append(hospede)\n",
    "else:\n",
    "    print(\"Maximo 4 hospede por quarto\")\n",
    "print(\"Lista de hospedes:{}\",format(quarto))      "
   ]
  },
  {
   "cell_type": "markdown",
   "metadata": {},
   "source": [
    "## 2. Análise de Vendas\n",
    "\n",
    "Nesse exercício vamos fazer uma \"análise simples\" de atingimento de Meta.\n",
    "\n",
    "Temos uma lista com os vendedores e os valores de vendas e queremos identificar (printar) quais os vendedores que bateram a meta e qual foi o valor que eles venderam."
   ]
  },
  {
   "cell_type": "code",
   "execution_count": 33,
   "metadata": {},
   "outputs": [
    {
     "name": "stdout",
     "output_type": "stream",
     "text": [
      "O vendedor João bateu a meta com R$15,000.00 em vendas\n",
      "O vendedor Julia bateu a meta com R$27,000.00 em vendas\n",
      "O vendedor Ana bateu a meta com R$10,300.00 em vendas\n"
     ]
    }
   ],
   "source": [
    "meta = 10000\n",
    "vendas = [\n",
    "    ['João', 15000],\n",
    "    ['Julia', 27000],\n",
    "    ['Marcus', 9900],\n",
    "    ['Maria', 3750],\n",
    "    ['Ana', 10300],\n",
    "    ['Alon', 7870],\n",
    "]\n",
    "#seu código aqui\n",
    "\n",
    "vendedor_bateu_meta = [] \n",
    "\n",
    "for vendedor in vendas:\n",
    "    if vendedor[1] >= meta:\n",
    "        vendedor = [vendedor[0], vendedor[1]] \n",
    "        vendedor_bateu_meta.append(vendedor)\n",
    "        print(\"O vendedor {} bateu a meta com R${:,.2f} em vendas\".format(vendedor[0],vendedor[1]))\n"
   ]
  },
  {
   "cell_type": "markdown",
   "metadata": {},
   "source": [
    "## 3. Comparação com Ano Anterior\n",
    "\n",
    "Digamos que você está analisando as vendas de produtos de um ecommerce e quer identificar quais produtos tiveram no ano de 2020 mais vendas do que no ano de 2019, para reportar isso para a diretoria.\n",
    "\n",
    "Sua resposta pode ser um print de cada produto, qual foi a venda de 2019, a venda de 2020 e o % de crescimento de 2020 para 2019.\n",
    "\n",
    "Lembrando, para calcular o % de crescimento de um produto de um ano para o outro, podemos fazer: (vendas_produto2020/vendas_produto2019 - 1)\n",
    "\n",
    "Dica: lembre do enumerate, ele pode facilitar seu \"for\""
   ]
  },
  {
   "cell_type": "code",
   "execution_count": 53,
   "metadata": {},
   "outputs": [
    {
     "name": "stdout",
     "output_type": "stream",
     "text": [
      "iphone vendeu em 2019 foi R$ 558,147.00 em 2020 vendeu R$ 951,642.00, com um crecimento de 70.5% \n",
      "tv vendeu em 2019 foi R$ 405,252.00 em 2020 vendeu R$ 787,604.00, com um crecimento de 94.3% \n",
      "máquina de café vendeu em 2019 foi R$ 718,654.00 em 2020 vendeu R$ 867,660.00, com um crecimento de 20.7% \n",
      "notebook dell vendeu em 2019 foi R$ 422,760.00 em 2020 vendeu R$ 694,913.00, com um crecimento de 64.4% \n",
      "notebook hp vendeu em 2019 foi R$ 154,753.00 em 2020 vendeu R$ 539,704.00, com um crecimento de 248.8% \n",
      "microsoft surface vendeu em 2019 foi R$ 438,508.00 em 2020 vendeu R$ 667,179.00, com um crecimento de 52.1% \n",
      "webcam vendeu em 2019 foi R$ 237,467.00 em 2020 vendeu R$ 295,633.00, com um crecimento de 24.5% \n",
      "caixa de som vendeu em 2019 foi R$ 489,705.00 em 2020 vendeu R$ 725,316.00, com um crecimento de 48.1% \n",
      "microfone vendeu em 2019 foi R$ 328,311.00 em 2020 vendeu R$ 644,622.00, com um crecimento de 96.3% \n",
      "câmera canon vendeu em 2019 foi R$ 591,120.00 em 2020 vendeu R$ 994,303.00, com um crecimento de 68.2% \n"
     ]
    }
   ],
   "source": [
    "produtos = ['iphone', 'galaxy', 'ipad', 'tv', 'máquina de café', 'kindle', 'geladeira', 'adega', 'notebook dell', 'notebook hp', 'notebook asus', 'microsoft surface', 'webcam', 'caixa de som', 'microfone', 'câmera canon']\n",
    "vendas2019 = [558147,712350,573823,405252,718654,531580,973139,892292,422760,154753,887061,438508,237467,489705,328311,591120]\n",
    "vendas2020 = [951642,244295,26964,787604,867660,78830,710331,646016,694913,539704,324831,667179,295633,725316,644622,994303]\n",
    "#seu código aqui\n",
    "\n",
    "for i, item in enumerate (vendas2019):\n",
    "    if vendas2020[i] > vendas2019[i]:\n",
    "        dif_percentual = vendas2020[i] / vendas2019[i] - 1\n",
    "        print(\"{} vendeu em 2019 foi R$ {:,.2f} em 2020 vendeu R$ {:,.2f}, com um crecimento de {:.1%} \".format(produtos[i],vendas2019[i],vendas2020[i],dif_percentual))\n",
    "        "
   ]
  },
  {
   "cell_type": "code",
   "execution_count": null,
   "metadata": {},
   "outputs": [],
   "source": []
  }
 ],
 "metadata": {
  "kernelspec": {
   "display_name": "Python 3 (ipykernel)",
   "language": "python",
   "name": "python3"
  },
  "language_info": {
   "codemirror_mode": {
    "name": "ipython",
    "version": 3
   },
   "file_extension": ".py",
   "mimetype": "text/x-python",
   "name": "python",
   "nbconvert_exporter": "python",
   "pygments_lexer": "ipython3",
   "version": "3.11.5"
  }
 },
 "nbformat": 4,
 "nbformat_minor": 4
}
