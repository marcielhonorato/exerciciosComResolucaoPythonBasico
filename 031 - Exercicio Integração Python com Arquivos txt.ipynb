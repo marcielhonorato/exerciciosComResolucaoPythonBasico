{
 "cells": [
  {
   "cell_type": "markdown",
   "id": "8480fb46-553d-4406-a2f7-12aec49568b1",
   "metadata": {},
   "source": [
    "### Desafio onde vamos aprender:\n",
    "\n",
    "Na Hashtag, sempre analisamos o nosso \"Funil de Vendas\". Para isso, rastreamos de onde veio os alunos por meio de um código, do tipo:\n",
    "\n",
    "* hashtag_site_org -> Pessoas que vieram pelo site da Hashtag\n",
    "* hashtag_yt_org -> Pessoas que vieram pelo Youtube da Hashtag\n",
    "* hashtag_ig_org -> Pessoas que vieram pelo Instagram da Hashtag\n",
    "* hashtag_igfb_org -> Pessoas que vieram pelo Instagram ou Facebook da Hashtag\n",
    "\n",
    "Os códigos diferentes disso, são códigos de anúncio da Hashtag.\n",
    "\n",
    "* Queremos analisar quantos alunos vieram de anúncio e quantos vieram \"orgânico\".\n",
    "* Qual a melhor fonte \"orgânica\" de alunos\n",
    "\n",
    "Obs: orgânico é tudo aquilo que não veio de anúncios.\n",
    "\n",
    "No nosso sistema, conseguimos exportar um txt com as informações dos alunos, conforme o arquivo Alunos.txt\n",
    "(Os dados foram gerados aleatoriamente para simular uma situação real, já que não podemos fornecer os dados reais dos alunos por questões de segurança)\n",
    "\n",
    "No final, para treinar, vamos escrever todas essas respostas em um novo arquivo txt\n"
   ]
  },
  {
   "cell_type": "code",
   "execution_count": 127,
   "id": "b6ac7ce0-8bd6-43ec-9b62-350865b2927f",
   "metadata": {},
   "outputs": [
    {
     "name": "stdout",
     "output_type": "stream",
     "text": [
      "Arquivo gerado com sucesso\n"
     ]
    }
   ],
   "source": [
    "arquivo = open('base_dados/Alunos.txt', 'r')\n",
    "\n",
    "linhas = arquivo.readlines()\n",
    "\n",
    "del linhas[:4]\n",
    "\n",
    "# indicadores\n",
    "\n",
    "qtde_anuncio = 0\n",
    "qtde_org = 0\n",
    "qtde_yt_org = 0\n",
    "qtde_igfb_org = 0\n",
    "qtde_site = 0\n",
    "\n",
    "# percorrer o arquivo\n",
    "\n",
    "for linha in linhas:\n",
    "    email, origem = linha.split(',')\n",
    "    if '_org' in origem:\n",
    "        qtde_org += 1\n",
    "        if '_yt_org' in origem:\n",
    "            qtde_yt_org += 1\n",
    "        if '_ig_org' in origem:\n",
    "            qtde_igfb_org += 1\n",
    "        if '_site_org' in origem:\n",
    "            qtde_site += 1\n",
    "    else:\n",
    "        qtde_anuncio +=1\n",
    "# fechar o arquivo\n",
    "arquivo.close()\n",
    "\n",
    "with open('base_dados/Indicadores.txt', 'w') as arquivo_indicadores:\n",
    "    arquivo_indicadores.write('Qtde anuncio: {}\\n'.format(qtde_anuncio))\n",
    "    arquivo_indicadores.write('Qtde Organico: {}\\n'.format(qtde_org))\n",
    "    arquivo_indicadores.write('Qtde Youtube : {}\\n'.format(qtde_yt_org))\n",
    "    arquivo_indicadores.write('Qtde Instagram/Facebook: {}\\n'.format(qtde_igfb_org))\n",
    "    arquivo_indicadores.write('Qtde Site: {}\\n'.format(qtde_site))\n",
    "print('Arquivo gerado com sucesso')\n"
   ]
  }
 ],
 "metadata": {
  "kernelspec": {
   "display_name": "Python 3 (ipykernel)",
   "language": "python",
   "name": "python3"
  },
  "language_info": {
   "codemirror_mode": {
    "name": "ipython",
    "version": 3
   },
   "file_extension": ".py",
   "mimetype": "text/x-python",
   "name": "python",
   "nbconvert_exporter": "python",
   "pygments_lexer": "ipython3",
   "version": "3.11.5"
  }
 },
 "nbformat": 4,
 "nbformat_minor": 5
}
