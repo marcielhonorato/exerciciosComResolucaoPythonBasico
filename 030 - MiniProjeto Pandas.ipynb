{
 "cells": [
  {
   "cell_type": "markdown",
   "metadata": {},
   "source": [
    "# Mini Projeto de Análise de Dados\n",
    "\n",
    "Vamos fazer um exercício completo de pandas para um miniprojeto de análise de dados.\n",
    "\n",
    "Esse exercício vai obrigar a gente a usar boa parte dos conhecimento de pandas e até de outros módulos que já aprendemos ao longo do curso.\n",
    "\n",
    "### O que temos?\n",
    "\n",
    "Temos os dados de 2019 de uma empresa de prestação de serviços. \n",
    "\n",
    "- CadastroFuncionarios\n",
    "- CadastroClientes\n",
    "- BaseServiçosPrestados\n",
    "\n",
    "Obs1: Para ler arquivos csv, temos o read_csv<br>\n",
    "Obs2: Para ler arquivos xlsx (arquivos em excel normais, que não são padrão csv), temos o read_excel\n",
    "\n",
    "### O que queremos saber/fazer?\n",
    "\n",
    "1. Valor Total da Folha Salarial -> Qual foi o gasto total com salários de funcionários pela empresa? <br>\n",
    "    Sugestão: calcule o salário total de cada funcionário, salário + benefícios + impostos, depois some todos os salários\n",
    "    \n",
    "    \n",
    "2. Qual foi o faturamento da empresa?<br>\n",
    "    Sugestão: calcule o faturamento total de cada serviço e depois some o faturamento de todos\n",
    "    \n",
    "    \n",
    "3. Qual o % de funcionários que já fechou algum contrato?<br>\n",
    "    Sugestão: na base de serviços temos o funcionário que fechou cada serviço. Mas nem todos os funcionários que a empresa tem já fecharam algum serviço.<br>\n",
    "    . Na base de funcionários temos uma lista com todos os funcionários<br>\n",
    "    . Queremos calcular Qtde_Funcionarios_Fecharam_Serviço / Qtde_Funcionários_Totais<br>\n",
    "    . Para calcular a qtde de funcionários que fecharam algum serviço, use a base de serviços e conte quantos funcionários tem ali. Mas lembre-se, cada funcionário só pode ser contado uma única vez.<br><br>\n",
    "    Dica: se você aplicar o método .unique() em uma variável que é apenas 1 coluna de um dataframe, ele vai excluir todos os valores duplicados daquela coluna.<br>\n",
    "    Ex: unicos_colunaA = dataframe['colunaA'].unique() te dá como resposta uma lista com todos os itens da colunaA aparecendo uma única vez. Todos os valores repetidos da colunaA são excluidos da variável unicos_colunaA \n",
    "    \n",
    "    \n",
    "4. Calcule o total de contratos que cada área da empresa já fechou\n",
    "\n",
    "\n",
    "5. Calcule o total de funcionários por área\n",
    "\n",
    "\n",
    "6. Qual o ticket médio mensal (faturamento médio mensal) dos contratos?<br>\n",
    "    Dica: .mean() calcula a média -> exemplo: media_colunaA = dataframe['colunaA'].mean()\n",
    "\n",
    "Obs: Lembrando as opções mais usuais de encoding:<br>\n",
    "encoding='latin1', encoding='ISO-8859-1', encoding='utf-8' ou então encoding='cp1252'\n",
    "\n",
    "Observação Importante: Se o seu código der um erro na hora de importar os arquivos:<br>\n",
    "- CadastroClientes.csv\n",
    "- CadastroFuncionarios.csv\n",
    "\n",
    "Use separador \";\" (ponto e vírgula) para resolver e inclua o parâmetro decimal ',' para o pandas identificar os números corretamente"
   ]
  },
  {
   "cell_type": "code",
   "execution_count": 1,
   "metadata": {},
   "outputs": [
    {
     "name": "stdout",
     "output_type": "stream",
     "text": [
      "<class 'pandas.core.frame.DataFrame'>\n",
      "RangeIndex: 320 entries, 0 to 319\n",
      "Data columns (total 3 columns):\n",
      " #   Column                 Non-Null Count  Dtype  \n",
      "---  ------                 --------------  -----  \n",
      " 0   ID Cliente             320 non-null    int64  \n",
      " 1   Cliente                320 non-null    object \n",
      " 2   Valor Contrato Mensal  320 non-null    float64\n",
      "dtypes: float64(1), int64(1), object(1)\n",
      "memory usage: 7.6+ KB\n"
     ]
    }
   ],
   "source": [
    "import pandas as pd\n",
    "\n",
    "cadastroClientes_df = pd.read_csv(r'base_dados//CadastroClientes.csv',sep=';', dtype={'ID Clientes':str, 'Valor Contrato Mensal':float})\n",
    "\n",
    "cadastroFuncionarios_df = pd.read_csv(r'base_dados//CadastroFuncionarios.csv',sep=';', decimal=',',dtype={'ID Funcionário':str,'Estado Civil':str,'Nome Completo':str,'Salario Base':float,'Impostos':float,'Beneficios':float,'VT':float,'VR':float})\n",
    "\n",
    "baseServicosPrestados_df = pd.read_excel(r'base_dados//BaseServiçosPrestados.xlsx', dtype={'ID Funcionário':str})\n",
    "\n",
    "#Verifica o tipo dos dados\n",
    "\n",
    "cadastroClientes_df.info()"
   ]
  },
  {
   "cell_type": "code",
   "execution_count": 2,
   "metadata": {},
   "outputs": [
    {
     "name": "stdout",
     "output_type": "stream",
     "text": [
      "Valor Total da Folha Salarial Mensal R$ 2,717,493.22\n"
     ]
    }
   ],
   "source": [
    "# 1 - Valor Total da Folha Salarial\n",
    "\n",
    "total_vlr_folha_salarial = cadastroFuncionarios_df['Salario Base'] + cadastroFuncionarios_df['Beneficios'] + cadastroFuncionarios_df['Impostos'] + cadastroFuncionarios_df['VR'] + + cadastroFuncionarios_df['VT'] \n",
    "\n",
    "print('Valor Total da Folha Salarial Mensal R$ {:,}'.format(total_vlr_folha_salarial.sum()))"
   ]
  },
  {
   "cell_type": "code",
   "execution_count": 3,
   "metadata": {},
   "outputs": [
    {
     "name": "stdout",
     "output_type": "stream",
     "text": [
      "Faturamento total da Empresa 5,519,160.00\n"
     ]
    }
   ],
   "source": [
    "# 2 - Faturamento da empresa\n",
    "\n",
    "vlr_contrato_mensal_cliente = baseServicosPrestados_df[['ID Cliente','Tempo Total de Contrato (Meses)']].merge(cadastroClientes_df[['ID Cliente','Valor Contrato Mensal']],on='ID Cliente',how='inner')\n",
    "\n",
    "vlr_contrato_mensal_cliente['Vlr Contrato Mensal'] = vlr_contrato_mensal_cliente['Tempo Total de Contrato (Meses)'] * vlr_contrato_mensal_cliente['Valor Contrato Mensal']\n",
    "\n",
    "print('Faturamento total da Empresa {:,.2f}'.format(vlr_contrato_mensal_cliente['Vlr Contrato Mensal'].sum()))\n"
   ]
  },
  {
   "cell_type": "code",
   "execution_count": 4,
   "metadata": {},
   "outputs": [
    {
     "name": "stdout",
     "output_type": "stream",
     "text": [
      "86.84% dos funcionários fecharam contratos\n"
     ]
    }
   ],
   "source": [
    "# 3 - % de funcionários que já fechou algum contrato\n",
    "\n",
    "qtde_funcionario_com_contrato = len(baseServicosPrestados_df['ID Funcionário'].unique())\n",
    "\n",
    "qtde_funcionario_sem_contrato = len(cadastroFuncionarios_df['ID Funcionário'].unique())\n",
    "\n",
    "print('{:.2%} dos funcionários fecharam contratos'.format(qtde_funcionario_com_contrato/qtde_funcionario_sem_contrato))"
   ]
  },
  {
   "cell_type": "code",
   "execution_count": 5,
   "metadata": {},
   "outputs": [
    {
     "data": {
      "text/plain": [
       "Area\n",
       "Administrativo    63\n",
       "Operações         48\n",
       "Comercial         44\n",
       "Financeiro        42\n",
       "Logística         40\n",
       "Name: count, dtype: int64"
      ]
     },
     "metadata": {},
     "output_type": "display_data"
    }
   ],
   "source": [
    "# 4 - Calcule o total de contratos que cada área da empresa já fechou\n",
    "\n",
    "total_contrato_empresa_area = baseServicosPrestados_df[['ID Funcionário']].merge(cadastroFuncionarios_df[['ID Funcionário','Area']],on='ID Funcionário')\n",
    "\n",
    "display(total_contrato_empresa_area.value_counts('Area'))\n"
   ]
  },
  {
   "cell_type": "code",
   "execution_count": 6,
   "metadata": {},
   "outputs": [
    {
     "data": {
      "text/plain": [
       "<Axes: xlabel='Area'>"
      ]
     },
     "execution_count": 6,
     "metadata": {},
     "output_type": "execute_result"
    },
    {
     "data": {
      "image/png": "[encoded data removed]",
      "text/plain": [
       "<Figure size 1000x500 with 1 Axes>"
      ]
     },
     "metadata": {},
     "output_type": "display_data"
    }
   ],
   "source": [
    "# 5 - Total de funcionários por área\n",
    "\n",
    "qtde_funcionario_area = cadastroFuncionarios_df.value_counts('Area')\n",
    "\n",
    "qtde_funcionario_area.plot(kind='bar', figsize=(10,5))"
   ]
  },
  {
   "cell_type": "code",
   "execution_count": 7,
   "metadata": {},
   "outputs": [
    {
     "name": "stdout",
     "output_type": "stream",
     "text": [
      "O ticker médio é de R$: 2,502.56\n"
     ]
    }
   ],
   "source": [
    "# 6 - Ticket médio mensal\n",
    "\n",
    "ticket_medio_mensal = cadastroClientes_df['Valor Contrato Mensal'].mean()\n",
    "\n",
    "print('O ticker médio é de R$: {:,.2f}'.format(ticket_medio_mensal))"
   ]
  },
  {
   "cell_type": "code",
   "execution_count": null,
   "metadata": {},
   "outputs": [],
   "source": []
  }
 ],
 "metadata": {
  "kernelspec": {
   "display_name": "Python 3 (ipykernel)",
   "language": "python",
   "name": "python3"
  },
  "language_info": {
   "codemirror_mode": {
    "name": "ipython",
    "version": 3
   },
   "file_extension": ".py",
   "mimetype": "text/x-python",
   "name": "python",
   "nbconvert_exporter": "python",
   "pygments_lexer": "ipython3",
   "version": "3.11.5"
  }
 },
 "nbformat": 4,
 "nbformat_minor": 4
}
