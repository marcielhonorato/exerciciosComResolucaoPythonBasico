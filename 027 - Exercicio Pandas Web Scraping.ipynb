{
 "cells": [
  {
   "cell_type": "markdown",
   "metadata": {},
   "source": [
    "# pandas: lendo da internet\n",
    "\n",
    "### Essa é uma das formas de importar arquivos da internet, direto do pandas. Mas nem sempre você vai conseguir abrir assim direto.\n"
   ]
  },
  {
   "cell_type": "markdown",
   "metadata": {},
   "source": [
    "### dados em uma requisição que precisa ser tratada\n",
    "\n",
    "Histórico de da produçaõ de café"
   ]
  },
  {
   "cell_type": "code",
   "execution_count": 289,
   "metadata": {},
   "outputs": [],
   "source": [
    "import pandas as pd\n",
    "import requests\n",
    "from bs4 import BeautifulSoup\n",
    "import io\n",
    "\n",
    "link = 'https://portalweb.cooxupe.com.br:9080/portal/precohistoricocafe.jsp'\n",
    "header = {\"User-Agent\": \"Mozilla/5.0 (X11; Ubuntu; Linux x86_64; rv:122.0) Gecko/20100101 Firefox/122.0\"}\n",
    "\n",
    "requisicao = requests.get(link, headers=header)\n",
    "\n",
    "site = BeautifulSoup(requisicao.text, \"html.parser\")\n",
    "\n",
    "table = site.find(\"table\", attrs={\"class\":\"display\"})\n",
    "\n",
    "# O primeiro tr contém o cabecalho (meses).\n",
    "\n",
    "mes = [th.get_text() for th in table.find(\"tr\").find_all(\"th\")]\n",
    "mes = mes[1:]\n",
    "\n",
    "dados = ([th.get_text().replace('\\r\\n                    ','').replace(' ','') for th in table.find_all(\"td\")])\n",
    "\n",
    "ano = []\n",
    "valor = []\n",
    "for i, item in enumerate(dados):\n",
    "    if len(dados[i]) == 4 and '.' not in dados[i] :\n",
    "        ano.append(dados[i])\n",
    "    else:\n",
    "        valor.append(dados[i])"
   ]
  },
  {
   "cell_type": "code",
   "execution_count": 304,
   "metadata": {
    "scrolled": true
   },
   "outputs": [],
   "source": [
    "# Criando uma lista de dicionários com ano, mês e valor\n",
    "\n",
    "dados = []\n",
    "\n",
    "for i in range(len(valor)):\n",
    "    ano_index = i // 12\n",
    "    mes_index = i % 12\n",
    "    dados.append({'ano': ano[ano_index], 'mes': mes[mes_index], 'valor': float(valor[i])})\n",
    "\n",
    "# Criando um DataFrame a partir da lista de dicionários\n",
    "\n",
    "df = pd.DataFrame(dados)\n",
    "df = df.pivot(index='ano', columns='mes', values='valor')\n",
    "df = df.reindex(columns=mes)\n",
    "df = df.sort_index(ascending = False)\n",
    "df = df.reset_index()\n",
    "\n",
    "# Exibindo o DataFrame\n",
    "\n",
    "df.to_excel(\"HistoricoProducaoCafe.xlsx\", index=False)"
   ]
  }
 ],
 "metadata": {
  "kernelspec": {
   "display_name": "Python 3 (ipykernel)",
   "language": "python",
   "name": "python3"
  },
  "language_info": {
   "codemirror_mode": {
    "name": "ipython",
    "version": 3
   },
   "file_extension": ".py",
   "mimetype": "text/x-python",
   "name": "python",
   "nbconvert_exporter": "python",
   "pygments_lexer": "ipython3",
   "version": "3.11.5"
  }
 },
 "nbformat": 4,
 "nbformat_minor": 4
}
